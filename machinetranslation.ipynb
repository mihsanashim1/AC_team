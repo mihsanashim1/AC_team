{
 "cells": [
  {
   "cell_type": "markdown",
   "id": "e093526e",
   "metadata": {
    "_cell_guid": "ed8b72f7-c80e-4c81-a47d-316bd7c4faf2",
    "_uuid": "17e795ef-7e04-4f8c-a346-1550f8e95f0c",
    "papermill": {
     "duration": 0.009001,
     "end_time": "2024-01-15T16:52:22.356983",
     "exception": false,
     "start_time": "2024-01-15T16:52:22.347982",
     "status": "completed"
    },
    "tags": []
   },
   "source": [
    "**install required dependencies**"
   ]
  },
  {
   "cell_type": "code",
   "execution_count": 1,
   "id": "00b2fd37",
   "metadata": {
    "_cell_guid": "df5290b5-d214-4e7e-8504-2cbe2f677158",
    "_uuid": "468879fe-9a12-4d8d-af96-6a56043dc51c",
    "collapsed": false,
    "execution": {
     "iopub.execute_input": "2024-01-15T16:52:22.376822Z",
     "iopub.status.busy": "2024-01-15T16:52:22.376221Z",
     "iopub.status.idle": "2024-01-15T16:52:38.707431Z",
     "shell.execute_reply": "2024-01-15T16:52:38.705287Z"
    },
    "jupyter": {
     "outputs_hidden": false
    },
    "papermill": {
     "duration": 16.344482,
     "end_time": "2024-01-15T16:52:38.710330",
     "exception": false,
     "start_time": "2024-01-15T16:52:22.365848",
     "status": "completed"
    },
    "tags": []
   },
   "outputs": [
    {
     "name": "stdout",
     "output_type": "stream",
     "text": [
      "Collecting nepalitokenizers\r\n",
      "  Obtaining dependency information for nepalitokenizers from https://files.pythonhosted.org/packages/e3/ee/9b52ba391a9b3b74760adb93c855a17b1df0f4a11e5eb3c88e6378a6f97d/nepalitokenizers-0.0.2-py3-none-any.whl.metadata\r\n",
      "  Downloading nepalitokenizers-0.0.2-py3-none-any.whl.metadata (8.8 kB)\r\n",
      "Requirement already satisfied: tokenizers>=0.13.3 in /opt/conda/lib/python3.10/site-packages (from nepalitokenizers) (0.15.0)\r\n",
      "Requirement already satisfied: huggingface_hub<1.0,>=0.16.4 in /opt/conda/lib/python3.10/site-packages (from tokenizers>=0.13.3->nepalitokenizers) (0.20.2)\r\n",
      "Requirement already satisfied: filelock in /opt/conda/lib/python3.10/site-packages (from huggingface_hub<1.0,>=0.16.4->tokenizers>=0.13.3->nepalitokenizers) (3.12.2)\r\n",
      "Requirement already satisfied: fsspec>=2023.5.0 in /opt/conda/lib/python3.10/site-packages (from huggingface_hub<1.0,>=0.16.4->tokenizers>=0.13.3->nepalitokenizers) (2023.12.2)\r\n",
      "Requirement already satisfied: requests in /opt/conda/lib/python3.10/site-packages (from huggingface_hub<1.0,>=0.16.4->tokenizers>=0.13.3->nepalitokenizers) (2.31.0)\r\n",
      "Requirement already satisfied: tqdm>=4.42.1 in /opt/conda/lib/python3.10/site-packages (from huggingface_hub<1.0,>=0.16.4->tokenizers>=0.13.3->nepalitokenizers) (4.66.1)\r\n",
      "Requirement already satisfied: pyyaml>=5.1 in /opt/conda/lib/python3.10/site-packages (from huggingface_hub<1.0,>=0.16.4->tokenizers>=0.13.3->nepalitokenizers) (6.0.1)\r\n",
      "Requirement already satisfied: typing-extensions>=3.7.4.3 in /opt/conda/lib/python3.10/site-packages (from huggingface_hub<1.0,>=0.16.4->tokenizers>=0.13.3->nepalitokenizers) (4.5.0)\r\n",
      "Requirement already satisfied: packaging>=20.9 in /opt/conda/lib/python3.10/site-packages (from huggingface_hub<1.0,>=0.16.4->tokenizers>=0.13.3->nepalitokenizers) (21.3)\r\n",
      "Requirement already satisfied: pyparsing!=3.0.5,>=2.0.2 in /opt/conda/lib/python3.10/site-packages (from packaging>=20.9->huggingface_hub<1.0,>=0.16.4->tokenizers>=0.13.3->nepalitokenizers) (3.0.9)\r\n",
      "Requirement already satisfied: charset-normalizer<4,>=2 in /opt/conda/lib/python3.10/site-packages (from requests->huggingface_hub<1.0,>=0.16.4->tokenizers>=0.13.3->nepalitokenizers) (3.2.0)\r\n",
      "Requirement already satisfied: idna<4,>=2.5 in /opt/conda/lib/python3.10/site-packages (from requests->huggingface_hub<1.0,>=0.16.4->tokenizers>=0.13.3->nepalitokenizers) (3.4)\r\n",
      "Requirement already satisfied: urllib3<3,>=1.21.1 in /opt/conda/lib/python3.10/site-packages (from requests->huggingface_hub<1.0,>=0.16.4->tokenizers>=0.13.3->nepalitokenizers) (1.26.15)\r\n",
      "Requirement already satisfied: certifi>=2017.4.17 in /opt/conda/lib/python3.10/site-packages (from requests->huggingface_hub<1.0,>=0.16.4->tokenizers>=0.13.3->nepalitokenizers) (2023.11.17)\r\n",
      "Downloading nepalitokenizers-0.0.2-py3-none-any.whl (678 kB)\r\n",
      "\u001b[2K   \u001b[90m━━━━━━━━━━━━━━━━━━━━━━━━━━━━━━━━━━━━━━━━\u001b[0m \u001b[32m678.2/678.2 kB\u001b[0m \u001b[31m13.0 MB/s\u001b[0m eta \u001b[36m0:00:00\u001b[0m\r\n",
      "\u001b[?25hInstalling collected packages: nepalitokenizers\r\n",
      "Successfully installed nepalitokenizers-0.0.2\r\n",
      "Note: you may need to restart the kernel to use updated packages.\n"
     ]
    }
   ],
   "source": [
    "pip install nepalitokenizers"
   ]
  },
  {
   "cell_type": "markdown",
   "id": "76933aa4",
   "metadata": {
    "_cell_guid": "9289ddf4-b08c-4c94-9b68-b6d7be23fe46",
    "_uuid": "4919f689-fa47-4d17-b331-bfd61b5fda14",
    "papermill": {
     "duration": 0.008515,
     "end_time": "2024-01-15T16:52:38.727820",
     "exception": false,
     "start_time": "2024-01-15T16:52:38.719305",
     "status": "completed"
    },
    "tags": []
   },
   "source": [
    "**Import required libraries**"
   ]
  },
  {
   "cell_type": "code",
   "execution_count": 2,
   "id": "c6fc8cfb",
   "metadata": {
    "_cell_guid": "d5fad157-6db9-44a5-8ca3-2abc1026eb6d",
    "_uuid": "ca994225-d512-484e-9ca7-b01d877188d7",
    "collapsed": false,
    "execution": {
     "iopub.execute_input": "2024-01-15T16:52:38.749338Z",
     "iopub.status.busy": "2024-01-15T16:52:38.748849Z",
     "iopub.status.idle": "2024-01-15T16:52:45.203671Z",
     "shell.execute_reply": "2024-01-15T16:52:45.202018Z"
    },
    "jupyter": {
     "outputs_hidden": false
    },
    "papermill": {
     "duration": 6.469353,
     "end_time": "2024-01-15T16:52:45.206936",
     "exception": false,
     "start_time": "2024-01-15T16:52:38.737583",
     "status": "completed"
    },
    "tags": []
   },
   "outputs": [],
   "source": [
    "from nepalitokenizers import WordPiece\n",
    "import string\n",
    "import numpy as np\n",
    "import pandas as pd\n",
    "import random\n",
    "import tqdm\n",
    "from tqdm import tnrange\n",
    "import torch\n",
    "import torch.nn as nn\n",
    "import torch.optim as optim\n",
    "import torch.nn.functional as F\n",
    "import spacy"
   ]
  },
  {
   "cell_type": "markdown",
   "id": "081afe07",
   "metadata": {
    "_cell_guid": "eff9e7ff-2814-4aee-a023-6b1db8dd9861",
    "_uuid": "ae5aaeea-e600-4f3a-8add-619812ae5f2a",
    "papermill": {
     "duration": 0.008351,
     "end_time": "2024-01-15T16:52:45.224214",
     "exception": false,
     "start_time": "2024-01-15T16:52:45.215863",
     "status": "completed"
    },
    "tags": []
   },
   "source": [
    "**check for cuda cores GPU**"
   ]
  },
  {
   "cell_type": "code",
   "execution_count": 3,
   "id": "c950c372",
   "metadata": {
    "_cell_guid": "f24594cf-e6db-4b99-9e89-f6006575820f",
    "_uuid": "ef407cd2-15a1-4d4e-bbbc-431a4372e48d",
    "collapsed": false,
    "execution": {
     "iopub.execute_input": "2024-01-15T16:52:45.243638Z",
     "iopub.status.busy": "2024-01-15T16:52:45.242992Z",
     "iopub.status.idle": "2024-01-15T16:52:45.249404Z",
     "shell.execute_reply": "2024-01-15T16:52:45.247807Z"
    },
    "jupyter": {
     "outputs_hidden": false
    },
    "papermill": {
     "duration": 0.019833,
     "end_time": "2024-01-15T16:52:45.252526",
     "exception": false,
     "start_time": "2024-01-15T16:52:45.232693",
     "status": "completed"
    },
    "tags": []
   },
   "outputs": [],
   "source": [
    "device = torch.device(\"cuda\" if torch.cuda.is_available() else \"cpu\")"
   ]
  },
  {
   "cell_type": "markdown",
   "id": "59b4f99e",
   "metadata": {
    "papermill": {
     "duration": 0.008879,
     "end_time": "2024-01-15T16:52:45.270214",
     "exception": false,
     "start_time": "2024-01-15T16:52:45.261335",
     "status": "completed"
    },
    "tags": []
   },
   "source": [
    "**Loading processed dataset for sample model**"
   ]
  },
  {
   "cell_type": "code",
   "execution_count": 4,
   "id": "64ae8893",
   "metadata": {
    "execution": {
     "iopub.execute_input": "2024-01-15T16:52:45.290050Z",
     "iopub.status.busy": "2024-01-15T16:52:45.289649Z",
     "iopub.status.idle": "2024-01-15T16:52:45.312138Z",
     "shell.execute_reply": "2024-01-15T16:52:45.310692Z"
    },
    "papermill": {
     "duration": 0.035902,
     "end_time": "2024-01-15T16:52:45.315411",
     "exception": false,
     "start_time": "2024-01-15T16:52:45.279509",
     "status": "completed"
    },
    "tags": []
   },
   "outputs": [],
   "source": [
    "path = \"/kaggle/input/machine/Book1.csv\"\n",
    "df = pd.read_csv(path)"
   ]
  },
  {
   "cell_type": "code",
   "execution_count": 5,
   "id": "1fb60546",
   "metadata": {
    "execution": {
     "iopub.execute_input": "2024-01-15T16:52:45.338373Z",
     "iopub.status.busy": "2024-01-15T16:52:45.337670Z",
     "iopub.status.idle": "2024-01-15T16:52:45.360046Z",
     "shell.execute_reply": "2024-01-15T16:52:45.358855Z"
    },
    "papermill": {
     "duration": 0.037055,
     "end_time": "2024-01-15T16:52:45.362720",
     "exception": false,
     "start_time": "2024-01-15T16:52:45.325665",
     "status": "completed"
    },
    "tags": []
   },
   "outputs": [
    {
     "data": {
      "text/html": [
       "<div>\n",
       "<style scoped>\n",
       "    .dataframe tbody tr th:only-of-type {\n",
       "        vertical-align: middle;\n",
       "    }\n",
       "\n",
       "    .dataframe tbody tr th {\n",
       "        vertical-align: top;\n",
       "    }\n",
       "\n",
       "    .dataframe thead th {\n",
       "        text-align: right;\n",
       "    }\n",
       "</style>\n",
       "<table border=\"1\" class=\"dataframe\">\n",
       "  <thead>\n",
       "    <tr style=\"text-align: right;\">\n",
       "      <th></th>\n",
       "      <th>nepali</th>\n",
       "      <th>english</th>\n",
       "    </tr>\n",
       "  </thead>\n",
       "  <tbody>\n",
       "    <tr>\n",
       "      <th>0</th>\n",
       "      <td>म पनि जान्छु है त अहिले लाई ।</td>\n",
       "      <td>I will also go now.</td>\n",
       "    </tr>\n",
       "    <tr>\n",
       "      <th>1</th>\n",
       "      <td>थाहा छैन ।</td>\n",
       "      <td>don't know</td>\n",
       "    </tr>\n",
       "    <tr>\n",
       "      <th>2</th>\n",
       "      <td>म खाना पकाउँदै छु ।</td>\n",
       "      <td>I am cooking.</td>\n",
       "    </tr>\n",
       "    <tr>\n",
       "      <th>3</th>\n",
       "      <td>तिमी हराएर हो नि भाई ।</td>\n",
       "      <td>You are lost brother.</td>\n",
       "    </tr>\n",
       "    <tr>\n",
       "      <th>4</th>\n",
       "      <td>मैले बाँसुरी ।</td>\n",
       "      <td>I blew the flute.</td>\n",
       "    </tr>\n",
       "  </tbody>\n",
       "</table>\n",
       "</div>"
      ],
      "text/plain": [
       "                          nepali                english\n",
       "0  म पनि जान्छु है त अहिले लाई ।    I will also go now.\n",
       "1                     थाहा छैन ।             don't know\n",
       "2            म खाना पकाउँदै छु ।          I am cooking.\n",
       "3         तिमी हराएर हो नि भाई ।  You are lost brother.\n",
       "4                 मैले बाँसुरी ।      I blew the flute."
      ]
     },
     "execution_count": 5,
     "metadata": {},
     "output_type": "execute_result"
    }
   ],
   "source": [
    "df.head()\n"
   ]
  },
  {
   "cell_type": "code",
   "execution_count": 6,
   "id": "435baa63",
   "metadata": {
    "execution": {
     "iopub.execute_input": "2024-01-15T16:52:45.387078Z",
     "iopub.status.busy": "2024-01-15T16:52:45.386588Z",
     "iopub.status.idle": "2024-01-15T16:52:45.412771Z",
     "shell.execute_reply": "2024-01-15T16:52:45.411186Z"
    },
    "papermill": {
     "duration": 0.041488,
     "end_time": "2024-01-15T16:52:45.415779",
     "exception": false,
     "start_time": "2024-01-15T16:52:45.374291",
     "status": "completed"
    },
    "tags": []
   },
   "outputs": [
    {
     "data": {
      "text/html": [
       "<div>\n",
       "<style scoped>\n",
       "    .dataframe tbody tr th:only-of-type {\n",
       "        vertical-align: middle;\n",
       "    }\n",
       "\n",
       "    .dataframe tbody tr th {\n",
       "        vertical-align: top;\n",
       "    }\n",
       "\n",
       "    .dataframe thead th {\n",
       "        text-align: right;\n",
       "    }\n",
       "</style>\n",
       "<table border=\"1\" class=\"dataframe\">\n",
       "  <thead>\n",
       "    <tr style=\"text-align: right;\">\n",
       "      <th></th>\n",
       "      <th>nepali</th>\n",
       "      <th>english</th>\n",
       "    </tr>\n",
       "  </thead>\n",
       "  <tbody>\n",
       "    <tr>\n",
       "      <th>count</th>\n",
       "      <td>171</td>\n",
       "      <td>171</td>\n",
       "    </tr>\n",
       "    <tr>\n",
       "      <th>unique</th>\n",
       "      <td>171</td>\n",
       "      <td>169</td>\n",
       "    </tr>\n",
       "    <tr>\n",
       "      <th>top</th>\n",
       "      <td>म पनि जान्छु है त अहिले लाई ।</td>\n",
       "      <td>It's fun.</td>\n",
       "    </tr>\n",
       "    <tr>\n",
       "      <th>freq</th>\n",
       "      <td>1</td>\n",
       "      <td>2</td>\n",
       "    </tr>\n",
       "  </tbody>\n",
       "</table>\n",
       "</div>"
      ],
      "text/plain": [
       "                               nepali    english\n",
       "count                             171        171\n",
       "unique                            171        169\n",
       "top     म पनि जान्छु है त अहिले लाई ।  It's fun.\n",
       "freq                                1          2"
      ]
     },
     "execution_count": 6,
     "metadata": {},
     "output_type": "execute_result"
    }
   ],
   "source": [
    "df.describe()"
   ]
  },
  {
   "cell_type": "code",
   "execution_count": 7,
   "id": "85c44b56",
   "metadata": {
    "execution": {
     "iopub.execute_input": "2024-01-15T16:52:45.438219Z",
     "iopub.status.busy": "2024-01-15T16:52:45.437797Z",
     "iopub.status.idle": "2024-01-15T16:52:45.452470Z",
     "shell.execute_reply": "2024-01-15T16:52:45.451045Z"
    },
    "papermill": {
     "duration": 0.029639,
     "end_time": "2024-01-15T16:52:45.455995",
     "exception": false,
     "start_time": "2024-01-15T16:52:45.426356",
     "status": "completed"
    },
    "tags": []
   },
   "outputs": [
    {
     "data": {
      "text/html": [
       "<div>\n",
       "<style scoped>\n",
       "    .dataframe tbody tr th:only-of-type {\n",
       "        vertical-align: middle;\n",
       "    }\n",
       "\n",
       "    .dataframe tbody tr th {\n",
       "        vertical-align: top;\n",
       "    }\n",
       "\n",
       "    .dataframe thead th {\n",
       "        text-align: right;\n",
       "    }\n",
       "</style>\n",
       "<table border=\"1\" class=\"dataframe\">\n",
       "  <thead>\n",
       "    <tr style=\"text-align: right;\">\n",
       "      <th></th>\n",
       "      <th>nepali</th>\n",
       "      <th>english</th>\n",
       "    </tr>\n",
       "  </thead>\n",
       "  <tbody>\n",
       "    <tr>\n",
       "      <th>0</th>\n",
       "      <td>म पनि जान्छु है त अहिले लाई ।</td>\n",
       "      <td>I will also go now.</td>\n",
       "    </tr>\n",
       "    <tr>\n",
       "      <th>1</th>\n",
       "      <td>थाहा छैन ।</td>\n",
       "      <td>don't know</td>\n",
       "    </tr>\n",
       "    <tr>\n",
       "      <th>2</th>\n",
       "      <td>म खाना पकाउँदै छु ।</td>\n",
       "      <td>I am cooking.</td>\n",
       "    </tr>\n",
       "    <tr>\n",
       "      <th>3</th>\n",
       "      <td>तिमी हराएर हो नि भाई ।</td>\n",
       "      <td>You are lost brother.</td>\n",
       "    </tr>\n",
       "    <tr>\n",
       "      <th>4</th>\n",
       "      <td>मैले बाँसुरी ।</td>\n",
       "      <td>I blew the flute.</td>\n",
       "    </tr>\n",
       "    <tr>\n",
       "      <th>...</th>\n",
       "      <td>...</td>\n",
       "      <td>...</td>\n",
       "    </tr>\n",
       "    <tr>\n",
       "      <th>166</th>\n",
       "      <td>राणाशाहीले नेपाललाई बिर्ता र मौजामा बाँडे ।</td>\n",
       "      <td>Ranashahi divided Nepal into Birta and Mauza.</td>\n",
       "    </tr>\n",
       "    <tr>\n",
       "      <th>167</th>\n",
       "      <td>के छ खबर साथीहरु?</td>\n",
       "      <td>What's up friends?</td>\n",
       "    </tr>\n",
       "    <tr>\n",
       "      <th>168</th>\n",
       "      <td>एक हातले तालि बज्दैन।</td>\n",
       "      <td>One hand does not clap.</td>\n",
       "    </tr>\n",
       "    <tr>\n",
       "      <th>169</th>\n",
       "      <td>अाज एक्कासि रुघा लाग्न थाल्यो ।</td>\n",
       "      <td>Today I suddenly started getting a cold.</td>\n",
       "    </tr>\n",
       "    <tr>\n",
       "      <th>170</th>\n",
       "      <td>अब केहि दिनमा गर्नेछु ।</td>\n",
       "      <td>I will do it in a few days.</td>\n",
       "    </tr>\n",
       "  </tbody>\n",
       "</table>\n",
       "<p>171 rows × 2 columns</p>\n",
       "</div>"
      ],
      "text/plain": [
       "                                          nepali  \\\n",
       "0                  म पनि जान्छु है त अहिले लाई ।   \n",
       "1                                     थाहा छैन ।   \n",
       "2                            म खाना पकाउँदै छु ।   \n",
       "3                         तिमी हराएर हो नि भाई ।   \n",
       "4                                 मैले बाँसुरी ।   \n",
       "..                                           ...   \n",
       "166  राणाशाहीले नेपाललाई बिर्ता र मौजामा बाँडे ।   \n",
       "167                            के छ खबर साथीहरु?   \n",
       "168                        एक हातले तालि बज्दैन।   \n",
       "169              अाज एक्कासि रुघा लाग्न थाल्यो ।   \n",
       "170                      अब केहि दिनमा गर्नेछु ।   \n",
       "\n",
       "                                           english  \n",
       "0                              I will also go now.  \n",
       "1                                       don't know  \n",
       "2                                    I am cooking.  \n",
       "3                            You are lost brother.  \n",
       "4                                I blew the flute.  \n",
       "..                                             ...  \n",
       "166  Ranashahi divided Nepal into Birta and Mauza.  \n",
       "167                             What's up friends?  \n",
       "168                        One hand does not clap.  \n",
       "169       Today I suddenly started getting a cold.  \n",
       "170                    I will do it in a few days.  \n",
       "\n",
       "[171 rows x 2 columns]"
      ]
     },
     "execution_count": 7,
     "metadata": {},
     "output_type": "execute_result"
    }
   ],
   "source": [
    "df"
   ]
  },
  {
   "cell_type": "code",
   "execution_count": 8,
   "id": "ad8fa8ef",
   "metadata": {
    "execution": {
     "iopub.execute_input": "2024-01-15T16:52:45.479803Z",
     "iopub.status.busy": "2024-01-15T16:52:45.479342Z",
     "iopub.status.idle": "2024-01-15T16:52:45.489486Z",
     "shell.execute_reply": "2024-01-15T16:52:45.488084Z"
    },
    "papermill": {
     "duration": 0.024771,
     "end_time": "2024-01-15T16:52:45.492170",
     "exception": false,
     "start_time": "2024-01-15T16:52:45.467399",
     "status": "completed"
    },
    "tags": []
   },
   "outputs": [],
   "source": [
    "df['nepali'] = df['nepali'].apply(lambda x :'<SOS>' + x + '<EOS>')"
   ]
  },
  {
   "cell_type": "code",
   "execution_count": 9,
   "id": "42572e8c",
   "metadata": {
    "execution": {
     "iopub.execute_input": "2024-01-15T16:52:45.515111Z",
     "iopub.status.busy": "2024-01-15T16:52:45.513902Z",
     "iopub.status.idle": "2024-01-15T16:52:45.531250Z",
     "shell.execute_reply": "2024-01-15T16:52:45.529663Z"
    },
    "papermill": {
     "duration": 0.032174,
     "end_time": "2024-01-15T16:52:45.534302",
     "exception": false,
     "start_time": "2024-01-15T16:52:45.502128",
     "status": "completed"
    },
    "tags": []
   },
   "outputs": [
    {
     "data": {
      "text/html": [
       "<div>\n",
       "<style scoped>\n",
       "    .dataframe tbody tr th:only-of-type {\n",
       "        vertical-align: middle;\n",
       "    }\n",
       "\n",
       "    .dataframe tbody tr th {\n",
       "        vertical-align: top;\n",
       "    }\n",
       "\n",
       "    .dataframe thead th {\n",
       "        text-align: right;\n",
       "    }\n",
       "</style>\n",
       "<table border=\"1\" class=\"dataframe\">\n",
       "  <thead>\n",
       "    <tr style=\"text-align: right;\">\n",
       "      <th></th>\n",
       "      <th>nepali</th>\n",
       "      <th>english</th>\n",
       "    </tr>\n",
       "  </thead>\n",
       "  <tbody>\n",
       "    <tr>\n",
       "      <th>0</th>\n",
       "      <td>&lt;SOS&gt;म पनि जान्छु है त अहिले लाई ।&lt;EOS&gt;</td>\n",
       "      <td>I will also go now.</td>\n",
       "    </tr>\n",
       "    <tr>\n",
       "      <th>1</th>\n",
       "      <td>&lt;SOS&gt;थाहा छैन ।&lt;EOS&gt;</td>\n",
       "      <td>don't know</td>\n",
       "    </tr>\n",
       "    <tr>\n",
       "      <th>2</th>\n",
       "      <td>&lt;SOS&gt;म खाना पकाउँदै छु ।&lt;EOS&gt;</td>\n",
       "      <td>I am cooking.</td>\n",
       "    </tr>\n",
       "    <tr>\n",
       "      <th>3</th>\n",
       "      <td>&lt;SOS&gt;तिमी हराएर हो नि भाई ।&lt;EOS&gt;</td>\n",
       "      <td>You are lost brother.</td>\n",
       "    </tr>\n",
       "    <tr>\n",
       "      <th>4</th>\n",
       "      <td>&lt;SOS&gt;मैले बाँसुरी ।&lt;EOS&gt;</td>\n",
       "      <td>I blew the flute.</td>\n",
       "    </tr>\n",
       "    <tr>\n",
       "      <th>...</th>\n",
       "      <td>...</td>\n",
       "      <td>...</td>\n",
       "    </tr>\n",
       "    <tr>\n",
       "      <th>166</th>\n",
       "      <td>&lt;SOS&gt;राणाशाहीले नेपाललाई बिर्ता र मौजामा बाँडे...</td>\n",
       "      <td>Ranashahi divided Nepal into Birta and Mauza.</td>\n",
       "    </tr>\n",
       "    <tr>\n",
       "      <th>167</th>\n",
       "      <td>&lt;SOS&gt;के छ खबर साथीहरु?&lt;EOS&gt;</td>\n",
       "      <td>What's up friends?</td>\n",
       "    </tr>\n",
       "    <tr>\n",
       "      <th>168</th>\n",
       "      <td>&lt;SOS&gt;एक हातले तालि बज्दैन।&lt;EOS&gt;</td>\n",
       "      <td>One hand does not clap.</td>\n",
       "    </tr>\n",
       "    <tr>\n",
       "      <th>169</th>\n",
       "      <td>&lt;SOS&gt;अाज एक्कासि रुघा लाग्न थाल्यो ।&lt;EOS&gt;</td>\n",
       "      <td>Today I suddenly started getting a cold.</td>\n",
       "    </tr>\n",
       "    <tr>\n",
       "      <th>170</th>\n",
       "      <td>&lt;SOS&gt;अब केहि दिनमा गर्नेछु ।&lt;EOS&gt;</td>\n",
       "      <td>I will do it in a few days.</td>\n",
       "    </tr>\n",
       "  </tbody>\n",
       "</table>\n",
       "<p>171 rows × 2 columns</p>\n",
       "</div>"
      ],
      "text/plain": [
       "                                                nepali  \\\n",
       "0              <SOS>म पनि जान्छु है त अहिले लाई ।<EOS>   \n",
       "1                                 <SOS>थाहा छैन ।<EOS>   \n",
       "2                        <SOS>म खाना पकाउँदै छु ।<EOS>   \n",
       "3                     <SOS>तिमी हराएर हो नि भाई ।<EOS>   \n",
       "4                             <SOS>मैले बाँसुरी ।<EOS>   \n",
       "..                                                 ...   \n",
       "166  <SOS>राणाशाहीले नेपाललाई बिर्ता र मौजामा बाँडे...   \n",
       "167                        <SOS>के छ खबर साथीहरु?<EOS>   \n",
       "168                    <SOS>एक हातले तालि बज्दैन।<EOS>   \n",
       "169          <SOS>अाज एक्कासि रुघा लाग्न थाल्यो ।<EOS>   \n",
       "170                  <SOS>अब केहि दिनमा गर्नेछु ।<EOS>   \n",
       "\n",
       "                                           english  \n",
       "0                              I will also go now.  \n",
       "1                                       don't know  \n",
       "2                                    I am cooking.  \n",
       "3                            You are lost brother.  \n",
       "4                                I blew the flute.  \n",
       "..                                             ...  \n",
       "166  Ranashahi divided Nepal into Birta and Mauza.  \n",
       "167                             What's up friends?  \n",
       "168                        One hand does not clap.  \n",
       "169       Today I suddenly started getting a cold.  \n",
       "170                    I will do it in a few days.  \n",
       "\n",
       "[171 rows x 2 columns]"
      ]
     },
     "execution_count": 9,
     "metadata": {},
     "output_type": "execute_result"
    }
   ],
   "source": [
    "df"
   ]
  },
  {
   "cell_type": "code",
   "execution_count": 10,
   "id": "65f160e0",
   "metadata": {
    "execution": {
     "iopub.execute_input": "2024-01-15T16:52:45.559806Z",
     "iopub.status.busy": "2024-01-15T16:52:45.559159Z",
     "iopub.status.idle": "2024-01-15T16:52:45.567550Z",
     "shell.execute_reply": "2024-01-15T16:52:45.565896Z"
    },
    "papermill": {
     "duration": 0.025108,
     "end_time": "2024-01-15T16:52:45.570940",
     "exception": false,
     "start_time": "2024-01-15T16:52:45.545832",
     "status": "completed"
    },
    "tags": []
   },
   "outputs": [],
   "source": [
    "df['english'] = df['english'].apply(lambda x :'<SOS>' + x + '<EOS>')"
   ]
  },
  {
   "cell_type": "code",
   "execution_count": 11,
   "id": "b7937f5b",
   "metadata": {
    "execution": {
     "iopub.execute_input": "2024-01-15T16:52:45.596012Z",
     "iopub.status.busy": "2024-01-15T16:52:45.595526Z",
     "iopub.status.idle": "2024-01-15T16:52:45.611105Z",
     "shell.execute_reply": "2024-01-15T16:52:45.609747Z"
    },
    "papermill": {
     "duration": 0.031342,
     "end_time": "2024-01-15T16:52:45.613811",
     "exception": false,
     "start_time": "2024-01-15T16:52:45.582469",
     "status": "completed"
    },
    "tags": []
   },
   "outputs": [
    {
     "data": {
      "text/html": [
       "<div>\n",
       "<style scoped>\n",
       "    .dataframe tbody tr th:only-of-type {\n",
       "        vertical-align: middle;\n",
       "    }\n",
       "\n",
       "    .dataframe tbody tr th {\n",
       "        vertical-align: top;\n",
       "    }\n",
       "\n",
       "    .dataframe thead th {\n",
       "        text-align: right;\n",
       "    }\n",
       "</style>\n",
       "<table border=\"1\" class=\"dataframe\">\n",
       "  <thead>\n",
       "    <tr style=\"text-align: right;\">\n",
       "      <th></th>\n",
       "      <th>nepali</th>\n",
       "      <th>english</th>\n",
       "    </tr>\n",
       "  </thead>\n",
       "  <tbody>\n",
       "    <tr>\n",
       "      <th>0</th>\n",
       "      <td>&lt;SOS&gt;म पनि जान्छु है त अहिले लाई ।&lt;EOS&gt;</td>\n",
       "      <td>&lt;SOS&gt;I will also go now.&lt;EOS&gt;</td>\n",
       "    </tr>\n",
       "    <tr>\n",
       "      <th>1</th>\n",
       "      <td>&lt;SOS&gt;थाहा छैन ।&lt;EOS&gt;</td>\n",
       "      <td>&lt;SOS&gt;don't know&lt;EOS&gt;</td>\n",
       "    </tr>\n",
       "    <tr>\n",
       "      <th>2</th>\n",
       "      <td>&lt;SOS&gt;म खाना पकाउँदै छु ।&lt;EOS&gt;</td>\n",
       "      <td>&lt;SOS&gt;I am cooking.&lt;EOS&gt;</td>\n",
       "    </tr>\n",
       "    <tr>\n",
       "      <th>3</th>\n",
       "      <td>&lt;SOS&gt;तिमी हराएर हो नि भाई ।&lt;EOS&gt;</td>\n",
       "      <td>&lt;SOS&gt;You are lost brother.&lt;EOS&gt;</td>\n",
       "    </tr>\n",
       "    <tr>\n",
       "      <th>4</th>\n",
       "      <td>&lt;SOS&gt;मैले बाँसुरी ।&lt;EOS&gt;</td>\n",
       "      <td>&lt;SOS&gt;I blew the flute.&lt;EOS&gt;</td>\n",
       "    </tr>\n",
       "    <tr>\n",
       "      <th>...</th>\n",
       "      <td>...</td>\n",
       "      <td>...</td>\n",
       "    </tr>\n",
       "    <tr>\n",
       "      <th>166</th>\n",
       "      <td>&lt;SOS&gt;राणाशाहीले नेपाललाई बिर्ता र मौजामा बाँडे...</td>\n",
       "      <td>&lt;SOS&gt;Ranashahi divided Nepal into Birta and Ma...</td>\n",
       "    </tr>\n",
       "    <tr>\n",
       "      <th>167</th>\n",
       "      <td>&lt;SOS&gt;के छ खबर साथीहरु?&lt;EOS&gt;</td>\n",
       "      <td>&lt;SOS&gt;What's up friends?&lt;EOS&gt;</td>\n",
       "    </tr>\n",
       "    <tr>\n",
       "      <th>168</th>\n",
       "      <td>&lt;SOS&gt;एक हातले तालि बज्दैन।&lt;EOS&gt;</td>\n",
       "      <td>&lt;SOS&gt;One hand does not clap.&lt;EOS&gt;</td>\n",
       "    </tr>\n",
       "    <tr>\n",
       "      <th>169</th>\n",
       "      <td>&lt;SOS&gt;अाज एक्कासि रुघा लाग्न थाल्यो ।&lt;EOS&gt;</td>\n",
       "      <td>&lt;SOS&gt;Today I suddenly started getting a cold.&lt;...</td>\n",
       "    </tr>\n",
       "    <tr>\n",
       "      <th>170</th>\n",
       "      <td>&lt;SOS&gt;अब केहि दिनमा गर्नेछु ।&lt;EOS&gt;</td>\n",
       "      <td>&lt;SOS&gt;I will do it in a few days.&lt;EOS&gt;</td>\n",
       "    </tr>\n",
       "  </tbody>\n",
       "</table>\n",
       "<p>171 rows × 2 columns</p>\n",
       "</div>"
      ],
      "text/plain": [
       "                                                nepali  \\\n",
       "0              <SOS>म पनि जान्छु है त अहिले लाई ।<EOS>   \n",
       "1                                 <SOS>थाहा छैन ।<EOS>   \n",
       "2                        <SOS>म खाना पकाउँदै छु ।<EOS>   \n",
       "3                     <SOS>तिमी हराएर हो नि भाई ।<EOS>   \n",
       "4                             <SOS>मैले बाँसुरी ।<EOS>   \n",
       "..                                                 ...   \n",
       "166  <SOS>राणाशाहीले नेपाललाई बिर्ता र मौजामा बाँडे...   \n",
       "167                        <SOS>के छ खबर साथीहरु?<EOS>   \n",
       "168                    <SOS>एक हातले तालि बज्दैन।<EOS>   \n",
       "169          <SOS>अाज एक्कासि रुघा लाग्न थाल्यो ।<EOS>   \n",
       "170                  <SOS>अब केहि दिनमा गर्नेछु ।<EOS>   \n",
       "\n",
       "                                               english  \n",
       "0                        <SOS>I will also go now.<EOS>  \n",
       "1                                 <SOS>don't know<EOS>  \n",
       "2                              <SOS>I am cooking.<EOS>  \n",
       "3                      <SOS>You are lost brother.<EOS>  \n",
       "4                          <SOS>I blew the flute.<EOS>  \n",
       "..                                                 ...  \n",
       "166  <SOS>Ranashahi divided Nepal into Birta and Ma...  \n",
       "167                       <SOS>What's up friends?<EOS>  \n",
       "168                  <SOS>One hand does not clap.<EOS>  \n",
       "169  <SOS>Today I suddenly started getting a cold.<...  \n",
       "170              <SOS>I will do it in a few days.<EOS>  \n",
       "\n",
       "[171 rows x 2 columns]"
      ]
     },
     "execution_count": 11,
     "metadata": {},
     "output_type": "execute_result"
    }
   ],
   "source": [
    "df"
   ]
  },
  {
   "cell_type": "code",
   "execution_count": 12,
   "id": "e8ba68c9",
   "metadata": {
    "execution": {
     "iopub.execute_input": "2024-01-15T16:52:45.639500Z",
     "iopub.status.busy": "2024-01-15T16:52:45.639034Z",
     "iopub.status.idle": "2024-01-15T16:52:45.650362Z",
     "shell.execute_reply": "2024-01-15T16:52:45.648450Z"
    },
    "papermill": {
     "duration": 0.027773,
     "end_time": "2024-01-15T16:52:45.653944",
     "exception": false,
     "start_time": "2024-01-15T16:52:45.626171",
     "status": "completed"
    },
    "tags": []
   },
   "outputs": [
    {
     "name": "stdout",
     "output_type": "stream",
     "text": [
      "no of english words:  561\n",
      "no of nepali words:  630\n"
     ]
    }
   ],
   "source": [
    "all_eng_words=set()\n",
    "for eng in df['english']:\n",
    "    for word in eng.split():\n",
    "        if word not in all_eng_words:\n",
    "            all_eng_words.add(word)\n",
    "\n",
    "all_nepali_words=set()\n",
    "for hin in df['nepali']:\n",
    "    for word in hin.split():\n",
    "        if word not in all_nepali_words:\n",
    "            all_nepali_words.add(word)\n",
    "\n",
    "            \n",
    "print('no of english words: ', len(all_eng_words))\n",
    "print('no of nepali words: ', len(all_nepali_words))            "
   ]
  },
  {
   "cell_type": "code",
   "execution_count": 13,
   "id": "474144ce",
   "metadata": {
    "execution": {
     "iopub.execute_input": "2024-01-15T16:52:45.678314Z",
     "iopub.status.busy": "2024-01-15T16:52:45.677883Z",
     "iopub.status.idle": "2024-01-15T16:52:45.686270Z",
     "shell.execute_reply": "2024-01-15T16:52:45.684807Z"
    },
    "papermill": {
     "duration": 0.023442,
     "end_time": "2024-01-15T16:52:45.689024",
     "exception": false,
     "start_time": "2024-01-15T16:52:45.665582",
     "status": "completed"
    },
    "tags": []
   },
   "outputs": [
    {
     "name": "stdout",
     "output_type": "stream",
     "text": [
      "max_output_length:  17\n"
     ]
    }
   ],
   "source": [
    "# not necessary for now\n",
    "# getting maximum sentence length of english sentences\n",
    "length_list = []\n",
    "for l in df.english:\n",
    "    length_list.append(len(l.split(' ')))\n",
    "\n",
    "max_input_length = np.max(length_list)\n",
    "print('max_output_length: ', max_input_length)"
   ]
  },
  {
   "cell_type": "code",
   "execution_count": 14,
   "id": "70776377",
   "metadata": {
    "execution": {
     "iopub.execute_input": "2024-01-15T16:52:45.713253Z",
     "iopub.status.busy": "2024-01-15T16:52:45.712827Z",
     "iopub.status.idle": "2024-01-15T16:52:45.720644Z",
     "shell.execute_reply": "2024-01-15T16:52:45.719204Z"
    },
    "papermill": {
     "duration": 0.023518,
     "end_time": "2024-01-15T16:52:45.723833",
     "exception": false,
     "start_time": "2024-01-15T16:52:45.700315",
     "status": "completed"
    },
    "tags": []
   },
   "outputs": [
    {
     "name": "stdout",
     "output_type": "stream",
     "text": [
      "max_input_length:  13\n"
     ]
    }
   ],
   "source": [
    "# getting maximum sentence length of nepali sentences\n",
    "length_list = []\n",
    "for l in df.nepali:\n",
    "    length_list.append(len(l.split(' ')))\n",
    "\n",
    "max_input_length = np.max(length_list)\n",
    "print('max_input_length: ', max_input_length)"
   ]
  },
  {
   "cell_type": "code",
   "execution_count": 15,
   "id": "aeff885a",
   "metadata": {
    "execution": {
     "iopub.execute_input": "2024-01-15T16:52:45.746560Z",
     "iopub.status.busy": "2024-01-15T16:52:45.746122Z",
     "iopub.status.idle": "2024-01-15T16:52:45.761501Z",
     "shell.execute_reply": "2024-01-15T16:52:45.760051Z"
    },
    "papermill": {
     "duration": 0.029619,
     "end_time": "2024-01-15T16:52:45.764027",
     "exception": false,
     "start_time": "2024-01-15T16:52:45.734408",
     "status": "completed"
    },
    "tags": []
   },
   "outputs": [
    {
     "data": {
      "text/html": [
       "<div>\n",
       "<style scoped>\n",
       "    .dataframe tbody tr th:only-of-type {\n",
       "        vertical-align: middle;\n",
       "    }\n",
       "\n",
       "    .dataframe tbody tr th {\n",
       "        vertical-align: top;\n",
       "    }\n",
       "\n",
       "    .dataframe thead th {\n",
       "        text-align: right;\n",
       "    }\n",
       "</style>\n",
       "<table border=\"1\" class=\"dataframe\">\n",
       "  <thead>\n",
       "    <tr style=\"text-align: right;\">\n",
       "      <th></th>\n",
       "      <th>nepali</th>\n",
       "      <th>english</th>\n",
       "    </tr>\n",
       "  </thead>\n",
       "  <tbody>\n",
       "    <tr>\n",
       "      <th>0</th>\n",
       "      <td>&lt;SOS&gt;म पनि जान्छु है त अहिले लाई ।&lt;EOS&gt;</td>\n",
       "      <td>&lt;SOS&gt;I will also go now.&lt;EOS&gt;</td>\n",
       "    </tr>\n",
       "    <tr>\n",
       "      <th>1</th>\n",
       "      <td>&lt;SOS&gt;थाहा छैन ।&lt;EOS&gt;</td>\n",
       "      <td>&lt;SOS&gt;don't know&lt;EOS&gt;</td>\n",
       "    </tr>\n",
       "    <tr>\n",
       "      <th>2</th>\n",
       "      <td>&lt;SOS&gt;म खाना पकाउँदै छु ।&lt;EOS&gt;</td>\n",
       "      <td>&lt;SOS&gt;I am cooking.&lt;EOS&gt;</td>\n",
       "    </tr>\n",
       "    <tr>\n",
       "      <th>3</th>\n",
       "      <td>&lt;SOS&gt;तिमी हराएर हो नि भाई ।&lt;EOS&gt;</td>\n",
       "      <td>&lt;SOS&gt;You are lost brother.&lt;EOS&gt;</td>\n",
       "    </tr>\n",
       "    <tr>\n",
       "      <th>4</th>\n",
       "      <td>&lt;SOS&gt;मैले बाँसुरी ।&lt;EOS&gt;</td>\n",
       "      <td>&lt;SOS&gt;I blew the flute.&lt;EOS&gt;</td>\n",
       "    </tr>\n",
       "    <tr>\n",
       "      <th>...</th>\n",
       "      <td>...</td>\n",
       "      <td>...</td>\n",
       "    </tr>\n",
       "    <tr>\n",
       "      <th>166</th>\n",
       "      <td>&lt;SOS&gt;राणाशाहीले नेपाललाई बिर्ता र मौजामा बाँडे...</td>\n",
       "      <td>&lt;SOS&gt;Ranashahi divided Nepal into Birta and Ma...</td>\n",
       "    </tr>\n",
       "    <tr>\n",
       "      <th>167</th>\n",
       "      <td>&lt;SOS&gt;के छ खबर साथीहरु?&lt;EOS&gt;</td>\n",
       "      <td>&lt;SOS&gt;What's up friends?&lt;EOS&gt;</td>\n",
       "    </tr>\n",
       "    <tr>\n",
       "      <th>168</th>\n",
       "      <td>&lt;SOS&gt;एक हातले तालि बज्दैन।&lt;EOS&gt;</td>\n",
       "      <td>&lt;SOS&gt;One hand does not clap.&lt;EOS&gt;</td>\n",
       "    </tr>\n",
       "    <tr>\n",
       "      <th>169</th>\n",
       "      <td>&lt;SOS&gt;अाज एक्कासि रुघा लाग्न थाल्यो ।&lt;EOS&gt;</td>\n",
       "      <td>&lt;SOS&gt;Today I suddenly started getting a cold.&lt;...</td>\n",
       "    </tr>\n",
       "    <tr>\n",
       "      <th>170</th>\n",
       "      <td>&lt;SOS&gt;अब केहि दिनमा गर्नेछु ।&lt;EOS&gt;</td>\n",
       "      <td>&lt;SOS&gt;I will do it in a few days.&lt;EOS&gt;</td>\n",
       "    </tr>\n",
       "  </tbody>\n",
       "</table>\n",
       "<p>171 rows × 2 columns</p>\n",
       "</div>"
      ],
      "text/plain": [
       "                                                nepali  \\\n",
       "0              <SOS>म पनि जान्छु है त अहिले लाई ।<EOS>   \n",
       "1                                 <SOS>थाहा छैन ।<EOS>   \n",
       "2                        <SOS>म खाना पकाउँदै छु ।<EOS>   \n",
       "3                     <SOS>तिमी हराएर हो नि भाई ।<EOS>   \n",
       "4                             <SOS>मैले बाँसुरी ।<EOS>   \n",
       "..                                                 ...   \n",
       "166  <SOS>राणाशाहीले नेपाललाई बिर्ता र मौजामा बाँडे...   \n",
       "167                        <SOS>के छ खबर साथीहरु?<EOS>   \n",
       "168                    <SOS>एक हातले तालि बज्दैन।<EOS>   \n",
       "169          <SOS>अाज एक्कासि रुघा लाग्न थाल्यो ।<EOS>   \n",
       "170                  <SOS>अब केहि दिनमा गर्नेछु ।<EOS>   \n",
       "\n",
       "                                               english  \n",
       "0                        <SOS>I will also go now.<EOS>  \n",
       "1                                 <SOS>don't know<EOS>  \n",
       "2                              <SOS>I am cooking.<EOS>  \n",
       "3                      <SOS>You are lost brother.<EOS>  \n",
       "4                          <SOS>I blew the flute.<EOS>  \n",
       "..                                                 ...  \n",
       "166  <SOS>Ranashahi divided Nepal into Birta and Ma...  \n",
       "167                       <SOS>What's up friends?<EOS>  \n",
       "168                  <SOS>One hand does not clap.<EOS>  \n",
       "169  <SOS>Today I suddenly started getting a cold.<...  \n",
       "170              <SOS>I will do it in a few days.<EOS>  \n",
       "\n",
       "[171 rows x 2 columns]"
      ]
     },
     "execution_count": 15,
     "metadata": {},
     "output_type": "execute_result"
    }
   ],
   "source": [
    "df"
   ]
  },
  {
   "cell_type": "code",
   "execution_count": 16,
   "id": "4a4b1433",
   "metadata": {
    "execution": {
     "iopub.execute_input": "2024-01-15T16:52:45.788678Z",
     "iopub.status.busy": "2024-01-15T16:52:45.788260Z",
     "iopub.status.idle": "2024-01-15T16:52:45.894837Z",
     "shell.execute_reply": "2024-01-15T16:52:45.893503Z"
    },
    "papermill": {
     "duration": 0.122278,
     "end_time": "2024-01-15T16:52:45.897808",
     "exception": false,
     "start_time": "2024-01-15T16:52:45.775530",
     "status": "completed"
    },
    "tags": []
   },
   "outputs": [
    {
     "name": "stdout",
     "output_type": "stream",
     "text": [
      "                                                nepali  \\\n",
      "0              <SOS>म पनि जान्छु है त अहिले लाई ।<EOS>   \n",
      "1                                 <SOS>थाहा छैन ।<EOS>   \n",
      "2                        <SOS>म खाना पकाउँदै छु ।<EOS>   \n",
      "3                     <SOS>तिमी हराएर हो नि भाई ।<EOS>   \n",
      "4                             <SOS>मैले बाँसुरी ।<EOS>   \n",
      "..                                                 ...   \n",
      "166  <SOS>राणाशाहीले नेपाललाई बिर्ता र मौजामा बाँडे...   \n",
      "167                        <SOS>के छ खबर साथीहरु?<EOS>   \n",
      "168                    <SOS>एक हातले तालि बज्दैन।<EOS>   \n",
      "169          <SOS>अाज एक्कासि रुघा लाग्न थाल्यो ।<EOS>   \n",
      "170                  <SOS>अब केहि दिनमा गर्नेछु ।<EOS>   \n",
      "\n",
      "                                         nepali_tokens  \\\n",
      "0    [[CLS], <, so, ##s, >, म, पनि, जान्छु, है, त, ...   \n",
      "1    [[CLS], <, so, ##s, >, थाहा, छैन, ।, ##<, e, #...   \n",
      "2    [[CLS], <, so, ##s, >, म, खाना, पका, ##उँदै, छ...   \n",
      "3    [[CLS], <, so, ##s, >, तिमी, हराएर, हो, नि, भा...   \n",
      "4    [[CLS], <, so, ##s, >, मैले, बाँस, ##ुरी, ।, #...   \n",
      "..                                                 ...   \n",
      "166  [[CLS], <, so, ##s, >, राणा, ##शाही, ##ले, नेप...   \n",
      "167  [[CLS], <, so, ##s, >, के, छ, खबर, साथीहरु, ?,...   \n",
      "168  [[CLS], <, so, ##s, >, एक, हातले, ताल, ##ि, बज...   \n",
      "169  [[CLS], <, so, ##s, >, अाज, एक्कासि, रुघा, लाग...   \n",
      "170  [[CLS], <, so, ##s, >, अब, केहि, दिनमा, गर्नेछ...   \n",
      "\n",
      "                                             token_ids  \n",
      "0    [1, 32, 13885, 5784, 34, 1449, 8379, 24112, 11...  \n",
      "1    [1, 32, 13885, 5784, 34, 10039, 8600, 1496, 58...  \n",
      "2    [1, 32, 13885, 5784, 34, 1449, 11541, 23171, 1...  \n",
      "3    [1, 32, 13885, 5784, 34, 12758, 23294, 8406, 8...  \n",
      "4    [1, 32, 13885, 5784, 34, 9467, 21023, 29542, 1...  \n",
      "..                                                 ...  \n",
      "166  [1, 32, 13885, 5784, 34, 12374, 23716, 8340, 1...  \n",
      "167  [1, 32, 13885, 5784, 34, 8436, 1430, 11505, 19...  \n",
      "168  [1, 32, 13885, 5784, 34, 8472, 21122, 10101, 5...  \n",
      "169  [1, 32, 13885, 5784, 34, 29014, 25101, 23026, ...  \n",
      "170  [1, 32, 13885, 5784, 34, 9011, 11859, 11043, 2...  \n",
      "\n",
      "[171 rows x 3 columns]\n"
     ]
    }
   ],
   "source": [
    "# Step 4: Initialize the WordPiece tokenizer\n",
    "tokenizer_wp = WordPiece()\n",
    "\n",
    "# Step 5: Define a function to tokenize a text\n",
    "def tokenize_text(text):\n",
    "    encoded_text = tokenizer_wp.encode(text)\n",
    "    return (encoded_text.tokens, encoded_text.ids)\n",
    "\n",
    "# Step 6: Apply the tokenize_text function to the Nepali text column of the DataFrame\n",
    "# This will create a new DataFrame column where each row contains a tuple of (tokens, token_ids)\n",
    "df['nepali_tokenization'] = df['nepali'].apply(tokenize_text)\n",
    "\n",
    "# Step 7: Split the tuples into separate columns\n",
    "df['nepali_tokens'], df['token_ids'] = zip(*df['nepali_tokenization'])\n",
    "\n",
    "# Step 8: Output the DataFrame with the tokenized text and token IDs\n",
    "print(df[['nepali', 'nepali_tokens', 'token_ids']])\n"
   ]
  },
  {
   "cell_type": "code",
   "execution_count": 17,
   "id": "4a66860c",
   "metadata": {
    "execution": {
     "iopub.execute_input": "2024-01-15T16:52:45.922407Z",
     "iopub.status.busy": "2024-01-15T16:52:45.922008Z",
     "iopub.status.idle": "2024-01-15T16:52:48.914488Z",
     "shell.execute_reply": "2024-01-15T16:52:48.913119Z"
    },
    "papermill": {
     "duration": 3.008792,
     "end_time": "2024-01-15T16:52:48.918365",
     "exception": false,
     "start_time": "2024-01-15T16:52:45.909573",
     "status": "completed"
    },
    "tags": []
   },
   "outputs": [
    {
     "name": "stdout",
     "output_type": "stream",
     "text": [
      "                                               english  \\\n",
      "0                        <SOS>I will also go now.<EOS>   \n",
      "1                                 <SOS>don't know<EOS>   \n",
      "2                              <SOS>I am cooking.<EOS>   \n",
      "3                      <SOS>You are lost brother.<EOS>   \n",
      "4                          <SOS>I blew the flute.<EOS>   \n",
      "..                                                 ...   \n",
      "166  <SOS>Ranashahi divided Nepal into Birta and Ma...   \n",
      "167                       <SOS>What's up friends?<EOS>   \n",
      "168                  <SOS>One hand does not clap.<EOS>   \n",
      "169  <SOS>Today I suddenly started getting a cold.<...   \n",
      "170              <SOS>I will do it in a few days.<EOS>   \n",
      "\n",
      "                                        english_tokens  \\\n",
      "0          [<, SOS, >, I, will, also, go, now.<EOS, >]   \n",
      "1                  [<, SOS, >, don't, know, <, EOS, >]   \n",
      "2                  [<, SOS, >, I, am, cooking.<EOS, >]   \n",
      "3         [<, SOS, >, You, are, lost, brother.<EOS, >]   \n",
      "4             [<, SOS, >, I, blew, the, flute.<EOS, >]   \n",
      "..                                                 ...   \n",
      "166  [<, SOS, >, Ranashahi, divided, Nepal, into, B...   \n",
      "167         [<, SOS, >, What, 's, up, friends?<EOS, >]   \n",
      "168    [<, SOS, >, One, hand, does, not, clap.<EOS, >]   \n",
      "169  [<, SOS, >, Today, I, suddenly, started, getti...   \n",
      "170  [<, SOS, >, I, will, do, it, in, a, few, days....   \n",
      "\n",
      "                                  token_ids  \n",
      "0               [0, 1, 2, 3, 4, 5, 6, 7, 8]  \n",
      "1                  [0, 1, 2, 3, 4, 5, 6, 7]  \n",
      "2                     [0, 1, 2, 3, 4, 5, 6]  \n",
      "3                  [0, 1, 2, 3, 4, 5, 6, 7]  \n",
      "4                  [0, 1, 2, 3, 4, 5, 6, 7]  \n",
      "..                                      ...  \n",
      "166      [0, 1, 2, 3, 4, 5, 6, 7, 8, 9, 10]  \n",
      "167                [0, 1, 2, 3, 4, 5, 6, 7]  \n",
      "168             [0, 1, 2, 3, 4, 5, 6, 7, 8]  \n",
      "169      [0, 1, 2, 3, 4, 5, 6, 7, 8, 9, 10]  \n",
      "170  [0, 1, 2, 3, 4, 5, 6, 7, 8, 9, 10, 11]  \n",
      "\n",
      "[171 rows x 3 columns]\n"
     ]
    }
   ],
   "source": [
    "# tokenizer for english\n",
    "nlp = spacy.load(\"en_core_web_sm\")\n",
    "\n",
    "# Step 5: Tokenize the English text column (assuming the column name is 'english')\n",
    "# This will create a new column where each row contains a spaCy Doc object with tokenized text\n",
    "def tokenize_text(text):\n",
    "    doc = nlp(text)\n",
    "    tokens = [token.text for token in doc]\n",
    "    token_ids = [token.i for token in doc]\n",
    "    return tokens, token_ids\n",
    "\n",
    "# Step 6: Apply the tokenize_text function to the English text column of the DataFrame\n",
    "# Assuming the column containing English text is named 'english'\n",
    "df['english_tokens'], df['token_ids'] = zip(*df['english'].apply(tokenize_text))\n",
    "\n",
    "# Step 7: Output the DataFrame with the tokenized text and token IDs\n",
    "print(df[['english', 'english_tokens', 'token_ids']])"
   ]
  },
  {
   "cell_type": "code",
   "execution_count": null,
   "id": "4e262d76",
   "metadata": {
    "papermill": {
     "duration": 0.013288,
     "end_time": "2024-01-15T16:52:48.944341",
     "exception": false,
     "start_time": "2024-01-15T16:52:48.931053",
     "status": "completed"
    },
    "tags": []
   },
   "outputs": [],
   "source": []
  }
 ],
 "metadata": {
  "kaggle": {
   "accelerator": "none",
   "dataSources": [
    {
     "datasetId": 4307528,
     "sourceId": 7406691,
     "sourceType": "datasetVersion"
    }
   ],
   "dockerImageVersionId": 30635,
   "isGpuEnabled": false,
   "isInternetEnabled": true,
   "language": "python",
   "sourceType": "notebook"
  },
  "kernelspec": {
   "display_name": "Python 3",
   "language": "python",
   "name": "python3"
  },
  "language_info": {
   "codemirror_mode": {
    "name": "ipython",
    "version": 3
   },
   "file_extension": ".py",
   "mimetype": "text/x-python",
   "name": "python",
   "nbconvert_exporter": "python",
   "pygments_lexer": "ipython3",
   "version": "3.10.12"
  },
  "papermill": {
   "default_parameters": {},
   "duration": 32.508465,
   "end_time": "2024-01-15T16:52:51.204239",
   "environment_variables": {},
   "exception": null,
   "input_path": "__notebook__.ipynb",
   "output_path": "__notebook__.ipynb",
   "parameters": {},
   "start_time": "2024-01-15T16:52:18.695774",
   "version": "2.4.0"
  }
 },
 "nbformat": 4,
 "nbformat_minor": 5
}
